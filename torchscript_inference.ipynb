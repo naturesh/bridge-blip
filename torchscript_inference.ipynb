{
 "cells": [
  {
   "cell_type": "markdown",
   "id": "fd9cfb20",
   "metadata": {},
   "source": [
    "### Colab Setting\n",
    "\n",
    "- torchscript.ipynb, train.ipynb 의 device 와 동일하게 설정 필수"
   ]
  },
  {
   "cell_type": "code",
   "execution_count": null,
   "id": "367699b8",
   "metadata": {},
   "outputs": [],
   "source": [
    "from google.colab import drive\n",
    "drive.mount('/content/drive')\n",
    "\n",
    "device = 'cuda'"
   ]
  },
  {
   "cell_type": "code",
   "execution_count": null,
   "id": "91f74b80",
   "metadata": {},
   "outputs": [],
   "source": [
    "%cd /content/drive/MyDrive/bridgeblip\n",
    "!pip install -r requirements.txt"
   ]
  },
  {
   "cell_type": "code",
   "execution_count": null,
   "id": "55d3ac1a",
   "metadata": {},
   "outputs": [],
   "source": [
    "from transformers import InstructBlipProcessor\n",
    "\n",
    "import pandas as pd\n",
    "import torch\n",
    "\n",
    "from PIL import Image\n",
    "from tqdm.auto import tqdm\n",
    "\n",
    "import itertools"
   ]
  },
  {
   "cell_type": "code",
   "execution_count": 2,
   "id": "78d2ede8",
   "metadata": {},
   "outputs": [],
   "source": [
    "torch.manual_seed(0)\n",
    "torch.cuda.manual_seed_all(0)\n",
    "torch.backends.cudnn.deterministic = True\n",
    "torch.backends.cudnn.benchmark = False"
   ]
  },
  {
   "cell_type": "code",
   "execution_count": 3,
   "id": "372c0103",
   "metadata": {},
   "outputs": [],
   "source": [
    "def count_parameters(model):\n",
    "    total_params = sum(p.numel() for p in model.parameters())\n",
    "    print(f'total params      : {total_params:,}')"
   ]
  },
  {
   "cell_type": "code",
   "execution_count": 4,
   "id": "89d838a9",
   "metadata": {},
   "outputs": [],
   "source": [
    "processor = InstructBlipProcessor.from_pretrained(\"Salesforce/instructblip-flan-t5-xl\", use_fast=True)"
   ]
  },
  {
   "cell_type": "code",
   "execution_count": null,
   "id": "335688d8",
   "metadata": {},
   "outputs": [],
   "source": [
    "def predict(model, question, choices, image_id):\n",
    "\n",
    "    instructions = f'Question: {question} Options: {\" \".join([f\"({chr(i+97)}) {c}\" for i, c in enumerate(choices)])} Short answer:'\n",
    "    inputs = {\n",
    "        **processor(\n",
    "        images=Image.open(f'competition/test_input_images/{image_id}.jpg'),\n",
    "        text=instructions,\n",
    "        return_tensors=\"pt\",\n",
    "        padding='max_length',\n",
    "        truncation=True,\n",
    "        max_length=128,\n",
    "        ).to(device),\n",
    "        'decoder_input_ids' : torch.full((1, 1), 0, dtype=torch.long).to(device)\n",
    "    }\n",
    "\n",
    "    with torch.no_grad():\n",
    "        output = model(**inputs).squeeze()\n",
    "        answer = chr(65 + output.argmax(-1).item())\n",
    "        conf   = torch.softmax(output, dim=-1)[output.argmax(-1)].item()\n",
    "        return answer, conf\n"
   ]
  },
  {
   "cell_type": "code",
   "execution_count": null,
   "id": "f730dbca",
   "metadata": {},
   "outputs": [],
   "source": [
    "bridge_instructblip = torch.jit.load('checkpoint/torchscript.pt', map_location=device)\n",
    "bridge_instructblip.eval()\n",
    "\n",
    "count_parameters(bridge_instructblip)"
   ]
  },
  {
   "cell_type": "code",
   "execution_count": null,
   "id": "3b3741af",
   "metadata": {},
   "outputs": [],
   "source": [
    "df = pd.read_csv('competition/test.csv')\n",
    "\n",
    "answers = []\n",
    "LABELS  = ['A','B','C','D']\n",
    "THRESH  = 0.9\n",
    "\n",
    "perms = list(itertools.permutations(range(4)))\n",
    "for _, row in tqdm(df.iterrows(), total=len(df)):\n",
    "    q       = row['Question']\n",
    "    orig_ch = [row['A'], row['B'], row['C'], row['D']]\n",
    "    \n",
    "    score   = torch.zeros(4)\n",
    "    best    = None\n",
    "    \n",
    "    for p in perms:\n",
    "        perm_ch              = [orig_ch[i] for i in p]\n",
    "        pred_label, conf     = predict(bridge_instructblip, q, perm_ch, row['ID'])\n",
    "        \n",
    "        pred_idx  = LABELS.index(pred_label)\n",
    "        orig_idx  = p[pred_idx]\n",
    "        \n",
    "        score[orig_idx] += conf\n",
    "\n",
    "        if conf >= THRESH:\n",
    "            best = LABELS[orig_idx]\n",
    "            break     \n",
    "    else:\n",
    "        best = LABELS[score.argmax()]\n",
    "\n",
    "    answers.append(best)\n",
    "\n",
    "    "
   ]
  },
  {
   "cell_type": "code",
   "execution_count": null,
   "id": "61b20612",
   "metadata": {},
   "outputs": [],
   "source": [
    "df = pd.read_csv('competition/sample_submission.csv')\n",
    "\n",
    "df['answer'] = answers\n",
    "df.to_csv('submission.csv', index=False)"
   ]
  }
 ],
 "metadata": {
  "kernelspec": {
   "display_name": "base312",
   "language": "python",
   "name": "python3"
  },
  "language_info": {
   "codemirror_mode": {
    "name": "ipython",
    "version": 3
   },
   "file_extension": ".py",
   "mimetype": "text/x-python",
   "name": "python",
   "nbconvert_exporter": "python",
   "pygments_lexer": "ipython3",
   "version": "3.12.11"
  }
 },
 "nbformat": 4,
 "nbformat_minor": 5
}
